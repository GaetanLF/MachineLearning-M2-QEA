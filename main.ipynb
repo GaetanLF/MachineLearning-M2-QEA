{
 "cells": [
  {
   "cell_type": "markdown",
   "id": "8fed933c",
   "metadata": {},
   "source": [
    "# Machine Learning project\n",
    "### Core script\n",
    "\n",
    "### Authors: KRETSCHMANN, J-P. and LE FLOCH, G.\n",
    "\n",
    "The aim of this script is to settle Machine Learning algorithms in order to choose the best one to build a predictive model of the following shape:\n",
    "\n",
    "$\\{\\mathbb{R}^{n} \\longrightarrow \\mathbb{R}\\}$\n",
    "\n",
    "## I. We import all necessary packages"
   ]
  },
  {
   "cell_type": "code",
   "execution_count": 1,
   "id": "33e2b433",
   "metadata": {},
   "outputs": [],
   "source": [
    "import pickle\n",
    "import pandas as pd\n",
    "from lazypredict.Supervised import LazyRegressor\n",
    "from sklearn.model_selection import train_test_split"
   ]
  },
  {
   "cell_type": "markdown",
   "id": "2ec56376",
   "metadata": {},
   "source": [
    "## II. We import the datasets and draw some descriptive statistics\n",
    "\n",
    "*Note: These datasets are built through the script entitled preprocessing.py.*"
   ]
  },
  {
   "cell_type": "code",
   "execution_count": 7,
   "id": "a1d343bc",
   "metadata": {},
   "outputs": [],
   "source": [
    "df_touse, df_predict = pickle.load(open('data/datasets.sav','rb'))\n",
    "\n",
    "df_tousebis = df_touse.dropna()\n",
    "\n",
    "predictors = df_tousebis.columns.tolist()\n",
    "predictors.remove(\"target\")\n",
    "X = df_tousebis[predictors]\n",
    "y = df_tousebis[\"target\"]\n",
    "\n",
    "X_train, X_test, Y_train, Y_test = train_test_split(X,y,test_size=0.2)"
   ]
  },
  {
   "cell_type": "code",
   "execution_count": 11,
   "id": "11907574",
   "metadata": {},
   "outputs": [
    {
     "data": {
      "text/plain": [
       "(19305, 14252)"
      ]
     },
     "execution_count": 11,
     "metadata": {},
     "output_type": "execute_result"
    }
   ],
   "source": [
    "df_tousebis.shape"
   ]
  },
  {
   "cell_type": "code",
   "execution_count": null,
   "id": "1ab6d444",
   "metadata": {},
   "outputs": [
    {
     "name": "stderr",
     "output_type": "stream",
     "text": [
      "  2%|▉                                        | 1/42 [04:55<3:21:39, 295.12s/it]"
     ]
    }
   ],
   "source": [
    "reg = LazyRegressor(verbose=0, ignore_warnings=False, custom_metric=None)\n",
    "models, predictions = reg.fit(X_train, X_test, Y_train, Y_test)\n",
    "\n",
    "print(models)"
   ]
  }
 ],
 "metadata": {
  "kernelspec": {
   "display_name": "Python 3 (ipykernel)",
   "language": "python",
   "name": "python3"
  },
  "language_info": {
   "codemirror_mode": {
    "name": "ipython",
    "version": 3
   },
   "file_extension": ".py",
   "mimetype": "text/x-python",
   "name": "python",
   "nbconvert_exporter": "python",
   "pygments_lexer": "ipython3",
   "version": "3.9.13"
  }
 },
 "nbformat": 4,
 "nbformat_minor": 5
}
