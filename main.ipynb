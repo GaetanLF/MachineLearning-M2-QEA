{
 "cells": [
  {
   "cell_type": "markdown",
   "id": "d8115ba3",
   "metadata": {},
   "source": [
    "# Machine Learning project\n",
    "### Core script\n",
    "\n",
    "### Authors: KRETSCHMANN, J-P. and LE FLOCH, G.\n",
    "\n",
    "The aim of this script is to settle Machine Learning algorithms in order to choose the best one to build a predictive model of the following shape:\n",
    "\n",
    "$\\{\\mathbb{R}^{n} \\longrightarrow \\mathbb{R}\\}$\n",
    "\n",
    "## I. We import all necessary packages"
   ]
  },
  {
   "cell_type": "code",
   "execution_count": 3,
   "id": "9a372ce7",
   "metadata": {},
   "outputs": [],
   "source": [
    "import pickle"
   ]
  },
  {
   "cell_type": "markdown",
   "id": "66a0e752",
   "metadata": {},
   "source": [
    "## II. We import the datasets and draw some descriptive statistics\n",
    "\n",
    "*Note: These datasets are built through the script entitled preprocessing.py.*"
   ]
  },
  {
   "cell_type": "code",
   "execution_count": 5,
   "id": "04580fb8",
   "metadata": {},
   "outputs": [],
   "source": [
    "df_train, df_test = pickle.load(open('data/datasets.sav','rb'))"
   ]
  },
  {
   "cell_type": "code",
   "execution_count": null,
   "id": "c89b0fc6",
   "metadata": {},
   "outputs": [],
   "source": []
  }
 ],
 "metadata": {
  "kernelspec": {
   "display_name": "Python 3 (ipykernel)",
   "language": "python",
   "name": "python3"
  },
  "language_info": {
   "codemirror_mode": {
    "name": "ipython",
    "version": 3
   },
   "file_extension": ".py",
   "mimetype": "text/x-python",
   "name": "python",
   "nbconvert_exporter": "python",
   "pygments_lexer": "ipython3",
   "version": "3.9.13"
  }
 },
 "nbformat": 4,
 "nbformat_minor": 5
}
